{
 "cells": [
  {
   "cell_type": "markdown",
   "metadata": {},
   "source": [
    "## Imports"
   ]
  },
  {
   "cell_type": "code",
   "execution_count": 48,
   "metadata": {},
   "outputs": [],
   "source": [
    "import pandas as pd\n",
    "import numpy as np\n",
    "import tensorflow as tf\n",
    "from tensorflow import keras\n",
    "from tensorflow.keras.preprocessing.image import array_to_img\n",
    "from tensorflow.keras.models import Sequential\n",
    "from tensorflow.keras.layers import Dense, Activation,Dropout\n",
    "from tensorflow.keras.callbacks import TensorBoard\n",
    "from IPython.display import display\n",
    "import matplotlib.pyplot as plt\n",
    "from time import strftime\n",
    "\n",
    "from sklearn.metrics import confusion_matrix\n",
    "import os\n",
    "\n",
    "%matplotlib inline"
   ]
  },
  {
   "cell_type": "markdown",
   "metadata": {},
   "source": [
    "## Constants\n"
   ]
  },
  {
   "cell_type": "code",
   "execution_count": 2,
   "metadata": {},
   "outputs": [],
   "source": [
    "LABEL_NAMES=['airplane','automobile','bird','cat','deer','dog','frog','horse','ship','truck']\n",
    "IMG_WIDTH=32\n",
    "IMG_HEIGHT=32\n",
    "CHANNELS=3\n",
    "IMG_PIXELS=IMG_WIDTH * IMG_HEIGHT\n",
    "TOTAL_INPUTS=IMG_PIXELS*CHANNELS\n",
    "VALIDATION_SIZE = 10000\n",
    "SMALL_TRAIN_SIZE = 1000\n",
    "LOG_DIR = 'tensorboard_cifar_logs/'"
   ]
  },
  {
   "cell_type": "markdown",
   "metadata": {},
   "source": [
    "## Load the dataset"
   ]
  },
  {
   "cell_type": "code",
   "execution_count": 3,
   "metadata": {},
   "outputs": [],
   "source": [
    "(x_train_all, y_train_all), (x_test, y_test)=tf.keras.datasets.cifar10.load_data()"
   ]
  },
  {
   "cell_type": "markdown",
   "metadata": {},
   "source": [
    "## Explore the data"
   ]
  },
  {
   "cell_type": "code",
   "execution_count": 4,
   "metadata": {},
   "outputs": [
    {
     "data": {
      "text/plain": [
       "(50000, 32, 32, 3)"
      ]
     },
     "execution_count": 4,
     "metadata": {},
     "output_type": "execute_result"
    }
   ],
   "source": [
    "x_train_all.shape"
   ]
  },
  {
   "cell_type": "code",
   "execution_count": 5,
   "metadata": {},
   "outputs": [
    {
     "data": {
      "text/plain": [
       "array([[[ 59,  62,  63],\n",
       "        [ 43,  46,  45],\n",
       "        [ 50,  48,  43],\n",
       "        ...,\n",
       "        [158, 132, 108],\n",
       "        [152, 125, 102],\n",
       "        [148, 124, 103]],\n",
       "\n",
       "       [[ 16,  20,  20],\n",
       "        [  0,   0,   0],\n",
       "        [ 18,   8,   0],\n",
       "        ...,\n",
       "        [123,  88,  55],\n",
       "        [119,  83,  50],\n",
       "        [122,  87,  57]],\n",
       "\n",
       "       [[ 25,  24,  21],\n",
       "        [ 16,   7,   0],\n",
       "        [ 49,  27,   8],\n",
       "        ...,\n",
       "        [118,  84,  50],\n",
       "        [120,  84,  50],\n",
       "        [109,  73,  42]],\n",
       "\n",
       "       ...,\n",
       "\n",
       "       [[208, 170,  96],\n",
       "        [201, 153,  34],\n",
       "        [198, 161,  26],\n",
       "        ...,\n",
       "        [160, 133,  70],\n",
       "        [ 56,  31,   7],\n",
       "        [ 53,  34,  20]],\n",
       "\n",
       "       [[180, 139,  96],\n",
       "        [173, 123,  42],\n",
       "        [186, 144,  30],\n",
       "        ...,\n",
       "        [184, 148,  94],\n",
       "        [ 97,  62,  34],\n",
       "        [ 83,  53,  34]],\n",
       "\n",
       "       [[177, 144, 116],\n",
       "        [168, 129,  94],\n",
       "        [179, 142,  87],\n",
       "        ...,\n",
       "        [216, 184, 140],\n",
       "        [151, 118,  84],\n",
       "        [123,  92,  72]]], dtype=uint8)"
      ]
     },
     "execution_count": 5,
     "metadata": {},
     "output_type": "execute_result"
    }
   ],
   "source": [
    "x_train_all[0]"
   ]
  },
  {
   "cell_type": "code",
   "execution_count": 6,
   "metadata": {},
   "outputs": [
    {
     "data": {
      "image/png": "[encoded data removed]",
      "text/plain": [
       "<PIL.Image.Image image mode=RGB size=32x32 at 0x27FFEB087F0>"
      ]
     },
     "metadata": {},
     "output_type": "display_data"
    }
   ],
   "source": [
    "pic=array_to_img(x_train_all[1])\n",
    "display(pic)"
   ]
  },
  {
   "cell_type": "code",
   "execution_count": 7,
   "metadata": {},
   "outputs": [
    {
     "data": {
      "text/plain": [
       "(50000, 1)"
      ]
     },
     "execution_count": 7,
     "metadata": {},
     "output_type": "execute_result"
    }
   ],
   "source": [
    "y_train_all.shape"
   ]
  },
  {
   "cell_type": "code",
   "execution_count": 8,
   "metadata": {},
   "outputs": [
    {
     "data": {
      "text/plain": [
       "9"
      ]
     },
     "execution_count": 8,
     "metadata": {},
     "output_type": "execute_result"
    }
   ],
   "source": [
    "y_train_all[1][0]"
   ]
  },
  {
   "cell_type": "code",
   "execution_count": 9,
   "metadata": {},
   "outputs": [
    {
     "data": {
      "text/plain": [
       "'truck'"
      ]
     },
     "execution_count": 9,
     "metadata": {},
     "output_type": "execute_result"
    }
   ],
   "source": [
    "LABEL_NAMES[y_train_all[1][0]]"
   ]
  },
  {
   "cell_type": "code",
   "execution_count": 10,
   "metadata": {},
   "outputs": [
    {
     "data": {
      "text/plain": [
       "Text(0.5, 0, 'truck')"
      ]
     },
     "execution_count": 10,
     "metadata": {},
     "output_type": "execute_result"
    },
    {
     "data": {
      "image/png": "[encoded data removed]",
      "text/plain": [
       "<Figure size 432x288 with 1 Axes>"
      ]
     },
     "metadata": {
      "needs_background": "light"
     },
     "output_type": "display_data"
    }
   ],
   "source": [
    "plt.imshow(x_train_all[1])\n",
    "plt.xlabel(LABEL_NAMES[y_train_all[1][0]], fontsize=15)\n",
    "#plt.show()"
   ]
  },
  {
   "cell_type": "code",
   "execution_count": 11,
   "metadata": {},
   "outputs": [
    {
     "data": {
      "image/png": "[encoded data removed]",
      "text/plain": [
       "<Figure size 1080x360 with 10 Axes>"
      ]
     },
     "metadata": {},
     "output_type": "display_data"
    }
   ],
   "source": [
    "plt.figure(figsize=(15,5))\n",
    "\n",
    "for i in range(10):\n",
    "    plt.subplot(1, 10, i+1)\n",
    "    plt.yticks([])\n",
    "    plt.xticks([])\n",
    "    plt.xlabel(LABEL_NAMES[y_train_all[i][0]], fontsize=14)\n",
    "    plt.imshow(x_train_all[i])"
   ]
  },
  {
   "cell_type": "code",
   "execution_count": 12,
   "metadata": {},
   "outputs": [],
   "source": [
    "nr_imgs,x,y,x=x_train_all.shape"
   ]
  },
  {
   "cell_type": "code",
   "execution_count": 13,
   "metadata": {},
   "outputs": [
    {
     "data": {
      "text/plain": [
       "50000"
      ]
     },
     "execution_count": 13,
     "metadata": {},
     "output_type": "execute_result"
    }
   ],
   "source": [
    "nr_imgs\n"
   ]
  },
  {
   "cell_type": "markdown",
   "metadata": {},
   "source": [
    "## Preprocess the data"
   ]
  },
  {
   "cell_type": "markdown",
   "metadata": {},
   "source": [
    "##### -Normalize the input data to get values between 0 and 1.\n",
    "##### -Reshape the data to get rows of flattened arrays\n",
    "##### -Create a validation set"
   ]
  },
  {
   "cell_type": "code",
   "execution_count": 14,
   "metadata": {},
   "outputs": [
    {
     "data": {
      "text/plain": [
       "(50000, 32, 32, 3)"
      ]
     },
     "execution_count": 14,
     "metadata": {},
     "output_type": "execute_result"
    }
   ],
   "source": [
    "x_train_all.shape"
   ]
  },
  {
   "cell_type": "code",
   "execution_count": 15,
   "metadata": {},
   "outputs": [
    {
     "data": {
      "text/plain": [
       "59"
      ]
     },
     "execution_count": 15,
     "metadata": {},
     "output_type": "execute_result"
    }
   ],
   "source": [
    "x_train_all[0][0][0][0]"
   ]
  },
  {
   "cell_type": "code",
   "execution_count": 16,
   "metadata": {},
   "outputs": [],
   "source": [
    "x_train_all=x_train_all /255\n",
    "x_test=x_test /255"
   ]
  },
  {
   "cell_type": "code",
   "execution_count": 17,
   "metadata": {},
   "outputs": [],
   "source": [
    "x_train_all=x_train_all.reshape(x_train_all.shape[0],TOTAL_INPUTS)\n",
    "x_test=x_test.reshape(x_test.shape[0],TOTAL_INPUTS)"
   ]
  },
  {
   "cell_type": "code",
   "execution_count": 18,
   "metadata": {},
   "outputs": [
    {
     "data": {
      "text/plain": [
       "(50000, 3072)"
      ]
     },
     "execution_count": 18,
     "metadata": {},
     "output_type": "execute_result"
    }
   ],
   "source": [
    "x_train_all.shape"
   ]
  },
  {
   "cell_type": "code",
   "execution_count": 19,
   "metadata": {},
   "outputs": [
    {
     "data": {
      "text/plain": [
       "(10000, 3072)"
      ]
     },
     "execution_count": 19,
     "metadata": {},
     "output_type": "execute_result"
    }
   ],
   "source": [
    "x_test.shape"
   ]
  },
  {
   "cell_type": "code",
   "execution_count": 20,
   "metadata": {},
   "outputs": [],
   "source": [
    "x_val=x_train_all[:VALIDATION_SIZE]\n",
    "y_val=y_train_all[:VALIDATION_SIZE]"
   ]
  },
  {
   "cell_type": "code",
   "execution_count": 21,
   "metadata": {},
   "outputs": [],
   "source": [
    "x_train=x_train_all[VALIDATION_SIZE:]\n",
    "y_train=y_train_all[VALIDATION_SIZE:]"
   ]
  },
  {
   "cell_type": "code",
   "execution_count": 22,
   "metadata": {},
   "outputs": [
    {
     "data": {
      "text/plain": [
       "((10000, 3072), (10000, 1))"
      ]
     },
     "execution_count": 22,
     "metadata": {},
     "output_type": "execute_result"
    }
   ],
   "source": [
    "x_val.shape,y_val.shape\n"
   ]
  },
  {
   "cell_type": "code",
   "execution_count": 23,
   "metadata": {},
   "outputs": [
    {
     "data": {
      "text/plain": [
       "((40000, 3072), (40000, 1))"
      ]
     },
     "execution_count": 23,
     "metadata": {},
     "output_type": "execute_result"
    }
   ],
   "source": [
    "x_train.shape,y_train.shape"
   ]
  },
  {
   "cell_type": "markdown",
   "metadata": {},
   "source": [
    "## Defining our neural network using several models"
   ]
  },
  {
   "cell_type": "code",
   "execution_count": 24,
   "metadata": {},
   "outputs": [
    {
     "name": "stdout",
     "output_type": "stream",
     "text": [
      "Model: \"sequential\"\n",
      "_________________________________________________________________\n",
      " Layer (type)                Output Shape              Param #   \n",
      "=================================================================\n",
      " m1_hidden1 (Dense)          (None, 128)               393344    \n",
      "                                                                 \n",
      " m1_hidden2 (Dense)          (None, 64)                8256      \n",
      "                                                                 \n",
      " m1_hidden3 (Dense)          (None, 16)                1040      \n",
      "                                                                 \n",
      " m1_output (Dense)           (None, 10)                170       \n",
      "                                                                 \n",
      "=================================================================\n",
      "Total params: 402,810\n",
      "Trainable params: 402,810\n",
      "Non-trainable params: 0\n",
      "_________________________________________________________________\n"
     ]
    }
   ],
   "source": [
    "model_1=Sequential([Dense(units=128,input_dim=TOTAL_INPUTS,activation='relu',name='m1_hidden1'),\n",
    "                    Dense(units=64,activation='relu',name='m1_hidden2'),\n",
    "                    Dense(units=16,activation='relu',name='m1_hidden3'),\n",
    "                    Dense(units=10,activation='softmax',name='m1_output')])\n",
    "model_1.compile(optimizer='adam',loss='sparse_categorical_crossentropy',metrics=['accuracy'])\n",
    "model_1.summary()"
   ]
  },
  {
   "cell_type": "code",
   "execution_count": 25,
   "metadata": {},
   "outputs": [],
   "source": [
    "model_2=Sequential([Dropout(0.2,seed=42,input_shape=(TOTAL_INPUTS,)),\n",
    "                    Dense(units=128,activation='relu',name='m2_hidden1'),\n",
    "                    Dense(units=64,activation='relu',name='m2_hidden2'),\n",
    "                    Dense(units=15,activation='relu',name='m2_hidden3'),\n",
    "                    Dense(units=10,activation='softmax',name='m2_output')])\n",
    "model_2.compile(optimizer='adam',loss='sparse_categorical_crossentropy',metrics=['accuracy'])"
   ]
  },
  {
   "cell_type": "code",
   "execution_count": 26,
   "metadata": {},
   "outputs": [
    {
     "name": "stdout",
     "output_type": "stream",
     "text": [
      "Model: \"sequential_1\"\n",
      "_________________________________________________________________\n",
      " Layer (type)                Output Shape              Param #   \n",
      "=================================================================\n",
      " dropout (Dropout)           (None, 3072)              0         \n",
      "                                                                 \n",
      " m2_hidden1 (Dense)          (None, 128)               393344    \n",
      "                                                                 \n",
      " m2_hidden2 (Dense)          (None, 64)                8256      \n",
      "                                                                 \n",
      " m2_hidden3 (Dense)          (None, 15)                975       \n",
      "                                                                 \n",
      " m2_output (Dense)           (None, 10)                160       \n",
      "                                                                 \n",
      "=================================================================\n",
      "Total params: 402,735\n",
      "Trainable params: 402,735\n",
      "Non-trainable params: 0\n",
      "_________________________________________________________________\n"
     ]
    }
   ],
   "source": [
    "model_2.summary()"
   ]
  },
  {
   "cell_type": "code",
   "execution_count": 27,
   "metadata": {},
   "outputs": [],
   "source": [
    "model_3=Sequential([Dropout(0.2,seed=42,input_shape=(TOTAL_INPUTS,)),\n",
    "                    Dense(units=128,activation='relu',name='m3_hidden1'),\n",
    "                    Dropout(0.25,seed=42),\n",
    "                    Dense(units=64,activation='relu',name='m3_hidden2'),\n",
    "                    Dense(units=15,activation='relu',name='m3_hidden3'),\n",
    "                    Dense(units=10,activation='softmax',name='m3_output')])\n",
    "model_3.compile(optimizer='adam',loss='sparse_categorical_crossentropy',metrics=['accuracy'])"
   ]
  },
  {
   "cell_type": "markdown",
   "metadata": {},
   "source": [
    "## Tensorboard"
   ]
  },
  {
   "cell_type": "code",
   "execution_count": 28,
   "metadata": {},
   "outputs": [],
   "source": [
    "def get_tensorboard(model_name):\n",
    "    folder_name=f'{model_name} at {strftime(\"%H %M\")}'\n",
    "    \n",
    "    dir_paths=os.path.join(LOG_DIR,folder_name)\n",
    "    try:\n",
    "        os.makedirs(dir_paths)\n",
    "    except OSError as error:\n",
    "        print(error.strerror)\n",
    "    else:\n",
    "        print('Successfully created directory')\n",
    "    return TensorBoard(log_dir=dir_paths)\n",
    "    "
   ]
  },
  {
   "cell_type": "code",
   "execution_count": 29,
   "metadata": {},
   "outputs": [],
   "source": [
    "\n",
    "x_train_xs = x_train[:SMALL_TRAIN_SIZE]\n",
    "y_train_xs = y_train[:SMALL_TRAIN_SIZE]"
   ]
  },
  {
   "cell_type": "code",
   "execution_count": null,
   "metadata": {},
   "outputs": [],
   "source": []
  },
  {
   "cell_type": "code",
   "execution_count": 30,
   "metadata": {},
   "outputs": [
    {
     "name": "stdout",
     "output_type": "stream",
     "text": [
      "Successfully created directory\n",
      "Epoch 1/100\n",
      "40/40 [==============================] - 3s 52ms/step - loss: 2.2402 - accuracy: 0.1255 - val_loss: 2.1355 - val_accuracy: 0.1845\n",
      "Epoch 2/100\n",
      "40/40 [==============================] - 2s 46ms/step - loss: 2.0984 - accuracy: 0.1999 - val_loss: 2.0359 - val_accuracy: 0.2377\n",
      "Epoch 3/100\n",
      "40/40 [==============================] - 2s 43ms/step - loss: 2.0253 - accuracy: 0.2434 - val_loss: 1.9818 - val_accuracy: 0.2555\n",
      "Epoch 4/100\n",
      "40/40 [==============================] - 2s 43ms/step - loss: 1.9673 - accuracy: 0.2609 - val_loss: 1.9297 - val_accuracy: 0.2742\n",
      "Epoch 5/100\n",
      "40/40 [==============================] - 2s 44ms/step - loss: 1.9281 - accuracy: 0.2776 - val_loss: 1.9011 - val_accuracy: 0.2890\n",
      "Epoch 6/100\n",
      "40/40 [==============================] - 2s 47ms/step - loss: 1.8719 - accuracy: 0.3097 - val_loss: 1.8405 - val_accuracy: 0.3229\n",
      "Epoch 7/100\n",
      "40/40 [==============================] - 2s 45ms/step - loss: 1.8292 - accuracy: 0.3300 - val_loss: 1.8214 - val_accuracy: 0.3345\n",
      "Epoch 8/100\n",
      "40/40 [==============================] - 2s 44ms/step - loss: 1.7873 - accuracy: 0.3483 - val_loss: 1.7658 - val_accuracy: 0.3468\n",
      "Epoch 9/100\n",
      "40/40 [==============================] - 2s 41ms/step - loss: 1.7680 - accuracy: 0.3536 - val_loss: 1.7565 - val_accuracy: 0.3576\n",
      "Epoch 10/100\n",
      "40/40 [==============================] - 2s 43ms/step - loss: 1.7320 - accuracy: 0.3708 - val_loss: 1.7180 - val_accuracy: 0.3705\n",
      "Epoch 11/100\n",
      "40/40 [==============================] - 2s 45ms/step - loss: 1.7078 - accuracy: 0.3795 - val_loss: 1.7157 - val_accuracy: 0.3736\n",
      "Epoch 12/100\n",
      "40/40 [==============================] - 2s 45ms/step - loss: 1.6916 - accuracy: 0.3880 - val_loss: 1.6847 - val_accuracy: 0.3845\n",
      "Epoch 13/100\n",
      "40/40 [==============================] - 2s 50ms/step - loss: 1.6719 - accuracy: 0.3954 - val_loss: 1.6941 - val_accuracy: 0.3816\n",
      "Epoch 14/100\n",
      "40/40 [==============================] - 2s 50ms/step - loss: 1.6553 - accuracy: 0.4029 - val_loss: 1.6594 - val_accuracy: 0.3969\n",
      "Epoch 15/100\n",
      "40/40 [==============================] - 2s 54ms/step - loss: 1.6409 - accuracy: 0.4087 - val_loss: 1.6433 - val_accuracy: 0.4056\n",
      "Epoch 16/100\n",
      "40/40 [==============================] - 2s 53ms/step - loss: 1.6415 - accuracy: 0.4104 - val_loss: 1.6736 - val_accuracy: 0.3895\n",
      "Epoch 17/100\n",
      "40/40 [==============================] - 2s 52ms/step - loss: 1.6190 - accuracy: 0.4162 - val_loss: 1.6189 - val_accuracy: 0.4124\n",
      "Epoch 18/100\n",
      "40/40 [==============================] - 2s 50ms/step - loss: 1.5989 - accuracy: 0.4225 - val_loss: 1.6088 - val_accuracy: 0.4218\n",
      "Epoch 19/100\n",
      "40/40 [==============================] - 2s 50ms/step - loss: 1.5856 - accuracy: 0.4300 - val_loss: 1.6067 - val_accuracy: 0.4145\n",
      "Epoch 20/100\n",
      "40/40 [==============================] - 2s 62ms/step - loss: 1.5798 - accuracy: 0.4319 - val_loss: 1.6113 - val_accuracy: 0.4160\n",
      "Epoch 21/100\n",
      "40/40 [==============================] - 2s 55ms/step - loss: 1.5764 - accuracy: 0.4348 - val_loss: 1.5967 - val_accuracy: 0.4199\n",
      "Epoch 22/100\n",
      "40/40 [==============================] - 2s 55ms/step - loss: 1.5500 - accuracy: 0.4441 - val_loss: 1.5905 - val_accuracy: 0.4280\n",
      "Epoch 23/100\n",
      "40/40 [==============================] - 2s 63ms/step - loss: 1.5425 - accuracy: 0.4451 - val_loss: 1.5712 - val_accuracy: 0.4346\n",
      "Epoch 24/100\n",
      "40/40 [==============================] - 2s 51ms/step - loss: 1.5419 - accuracy: 0.4433 - val_loss: 1.5719 - val_accuracy: 0.4331\n",
      "Epoch 25/100\n",
      "40/40 [==============================] - 2s 53ms/step - loss: 1.5379 - accuracy: 0.4487 - val_loss: 1.5922 - val_accuracy: 0.4247\n",
      "Epoch 26/100\n",
      "40/40 [==============================] - 2s 51ms/step - loss: 1.5161 - accuracy: 0.4547 - val_loss: 1.5511 - val_accuracy: 0.4412\n",
      "Epoch 27/100\n",
      "40/40 [==============================] - 2s 51ms/step - loss: 1.5093 - accuracy: 0.4589 - val_loss: 1.5573 - val_accuracy: 0.4406\n",
      "Epoch 28/100\n",
      "40/40 [==============================] - 2s 55ms/step - loss: 1.5102 - accuracy: 0.4588 - val_loss: 1.5376 - val_accuracy: 0.4509\n",
      "Epoch 29/100\n",
      "40/40 [==============================] - 2s 50ms/step - loss: 1.4935 - accuracy: 0.4649 - val_loss: 1.5491 - val_accuracy: 0.4447\n",
      "Epoch 30/100\n",
      "40/40 [==============================] - 2s 59ms/step - loss: 1.4888 - accuracy: 0.4647 - val_loss: 1.5338 - val_accuracy: 0.4479\n",
      "Epoch 31/100\n",
      "40/40 [==============================] - 2s 60ms/step - loss: 1.4777 - accuracy: 0.4706 - val_loss: 1.5339 - val_accuracy: 0.4486\n",
      "Epoch 32/100\n",
      "40/40 [==============================] - 3s 64ms/step - loss: 1.4726 - accuracy: 0.4724 - val_loss: 1.5386 - val_accuracy: 0.4401\n",
      "Epoch 33/100\n",
      "40/40 [==============================] - 2s 57ms/step - loss: 1.4733 - accuracy: 0.4723 - val_loss: 1.5367 - val_accuracy: 0.4496\n",
      "Epoch 34/100\n",
      "40/40 [==============================] - 2s 52ms/step - loss: 1.4616 - accuracy: 0.4748 - val_loss: 1.5413 - val_accuracy: 0.4535\n",
      "Epoch 35/100\n",
      "40/40 [==============================] - 2s 49ms/step - loss: 1.4440 - accuracy: 0.4851 - val_loss: 1.5083 - val_accuracy: 0.4537\n",
      "Epoch 36/100\n",
      "40/40 [==============================] - 2s 52ms/step - loss: 1.4538 - accuracy: 0.4780 - val_loss: 1.5119 - val_accuracy: 0.4593\n",
      "Epoch 37/100\n",
      "40/40 [==============================] - 2s 58ms/step - loss: 1.4376 - accuracy: 0.4855 - val_loss: 1.4992 - val_accuracy: 0.4638\n",
      "Epoch 38/100\n",
      "40/40 [==============================] - 3s 65ms/step - loss: 1.4251 - accuracy: 0.4902 - val_loss: 1.5089 - val_accuracy: 0.4580\n",
      "Epoch 39/100\n",
      "40/40 [==============================] - 2s 50ms/step - loss: 1.4270 - accuracy: 0.4907 - val_loss: 1.5007 - val_accuracy: 0.4582\n",
      "Epoch 40/100\n",
      "40/40 [==============================] - 2s 56ms/step - loss: 1.4237 - accuracy: 0.4909 - val_loss: 1.4906 - val_accuracy: 0.4615\n",
      "Epoch 41/100\n",
      "40/40 [==============================] - 2s 51ms/step - loss: 1.4074 - accuracy: 0.4968 - val_loss: 1.5251 - val_accuracy: 0.4540\n",
      "Epoch 42/100\n",
      "40/40 [==============================] - 2s 52ms/step - loss: 1.4229 - accuracy: 0.4922 - val_loss: 1.5143 - val_accuracy: 0.4559\n",
      "Epoch 43/100\n",
      "40/40 [==============================] - 2s 50ms/step - loss: 1.3999 - accuracy: 0.4997 - val_loss: 1.4864 - val_accuracy: 0.4694\n",
      "Epoch 44/100\n",
      "40/40 [==============================] - 2s 54ms/step - loss: 1.3896 - accuracy: 0.5052 - val_loss: 1.4858 - val_accuracy: 0.4655\n",
      "Epoch 45/100\n",
      "40/40 [==============================] - 2s 56ms/step - loss: 1.3898 - accuracy: 0.5018 - val_loss: 1.5102 - val_accuracy: 0.4624\n",
      "Epoch 46/100\n",
      "40/40 [==============================] - 2s 57ms/step - loss: 1.3816 - accuracy: 0.5051 - val_loss: 1.4715 - val_accuracy: 0.4776\n",
      "Epoch 47/100\n",
      "40/40 [==============================] - 2s 55ms/step - loss: 1.3732 - accuracy: 0.5108 - val_loss: 1.4869 - val_accuracy: 0.4710\n",
      "Epoch 48/100\n",
      "40/40 [==============================] - 2s 56ms/step - loss: 1.3905 - accuracy: 0.5035 - val_loss: 1.4841 - val_accuracy: 0.4685\n",
      "Epoch 49/100\n",
      "40/40 [==============================] - 2s 55ms/step - loss: 1.3751 - accuracy: 0.5087 - val_loss: 1.4746 - val_accuracy: 0.4692\n",
      "Epoch 50/100\n",
      "40/40 [==============================] - 2s 53ms/step - loss: 1.3685 - accuracy: 0.5116 - val_loss: 1.4637 - val_accuracy: 0.4810\n",
      "Epoch 51/100\n",
      "40/40 [==============================] - 2s 53ms/step - loss: 1.3583 - accuracy: 0.5150 - val_loss: 1.4940 - val_accuracy: 0.4656\n",
      "Epoch 52/100\n",
      "40/40 [==============================] - 2s 62ms/step - loss: 1.3572 - accuracy: 0.5135 - val_loss: 1.4875 - val_accuracy: 0.4719\n",
      "Epoch 53/100\n",
      "40/40 [==============================] - 3s 68ms/step - loss: 1.3575 - accuracy: 0.5118 - val_loss: 1.4601 - val_accuracy: 0.4783\n",
      "Epoch 54/100\n",
      "40/40 [==============================] - 2s 61ms/step - loss: 1.3426 - accuracy: 0.5203 - val_loss: 1.4845 - val_accuracy: 0.4647\n",
      "Epoch 55/100\n",
      "40/40 [==============================] - 2s 53ms/step - loss: 1.3367 - accuracy: 0.5223 - val_loss: 1.4627 - val_accuracy: 0.4796\n",
      "Epoch 56/100\n",
      "40/40 [==============================] - 2s 62ms/step - loss: 1.3273 - accuracy: 0.5260 - val_loss: 1.4828 - val_accuracy: 0.4754\n",
      "Epoch 57/100\n",
      "40/40 [==============================] - 3s 69ms/step - loss: 1.3293 - accuracy: 0.5240 - val_loss: 1.4764 - val_accuracy: 0.4762\n",
      "Epoch 58/100\n"
     ]
    },
    {
     "name": "stdout",
     "output_type": "stream",
     "text": [
      "40/40 [==============================] - 3s 65ms/step - loss: 1.3350 - accuracy: 0.5225 - val_loss: 1.5139 - val_accuracy: 0.4630\n",
      "Epoch 59/100\n",
      "40/40 [==============================] - 3s 67ms/step - loss: 1.3302 - accuracy: 0.5243 - val_loss: 1.4753 - val_accuracy: 0.4803\n",
      "Epoch 60/100\n",
      "40/40 [==============================] - 3s 78ms/step - loss: 1.3209 - accuracy: 0.5282 - val_loss: 1.4606 - val_accuracy: 0.4779\n",
      "Epoch 61/100\n",
      "40/40 [==============================] - 2s 61ms/step - loss: 1.3185 - accuracy: 0.5262 - val_loss: 1.4832 - val_accuracy: 0.4756\n",
      "Epoch 62/100\n",
      "40/40 [==============================] - 2s 56ms/step - loss: 1.3070 - accuracy: 0.5320 - val_loss: 1.4775 - val_accuracy: 0.4722\n",
      "Epoch 63/100\n",
      "40/40 [==============================] - 2s 52ms/step - loss: 1.3126 - accuracy: 0.5310 - val_loss: 1.4747 - val_accuracy: 0.4798\n",
      "Epoch 64/100\n",
      "40/40 [==============================] - 2s 55ms/step - loss: 1.3104 - accuracy: 0.5317 - val_loss: 1.4636 - val_accuracy: 0.4817\n",
      "Epoch 65/100\n",
      "40/40 [==============================] - 2s 55ms/step - loss: 1.2976 - accuracy: 0.5357 - val_loss: 1.4541 - val_accuracy: 0.4838\n",
      "Epoch 66/100\n",
      "40/40 [==============================] - 2s 56ms/step - loss: 1.3188 - accuracy: 0.5276 - val_loss: 1.4758 - val_accuracy: 0.4784\n",
      "Epoch 67/100\n",
      "40/40 [==============================] - 2s 53ms/step - loss: 1.3023 - accuracy: 0.5329 - val_loss: 1.4604 - val_accuracy: 0.4846\n",
      "Epoch 68/100\n",
      "40/40 [==============================] - 2s 54ms/step - loss: 1.2911 - accuracy: 0.5368 - val_loss: 1.4705 - val_accuracy: 0.4809\n",
      "Epoch 69/100\n",
      "40/40 [==============================] - 2s 51ms/step - loss: 1.2932 - accuracy: 0.5359 - val_loss: 1.4561 - val_accuracy: 0.4824\n",
      "Epoch 70/100\n",
      "40/40 [==============================] - 2s 59ms/step - loss: 1.2935 - accuracy: 0.5364 - val_loss: 1.4455 - val_accuracy: 0.4869\n",
      "Epoch 71/100\n",
      "40/40 [==============================] - 2s 53ms/step - loss: 1.2902 - accuracy: 0.5395 - val_loss: 1.5000 - val_accuracy: 0.4664\n",
      "Epoch 72/100\n",
      "40/40 [==============================] - 3s 64ms/step - loss: 1.2788 - accuracy: 0.5427 - val_loss: 1.4726 - val_accuracy: 0.4769\n",
      "Epoch 73/100\n",
      "40/40 [==============================] - 2s 58ms/step - loss: 1.2779 - accuracy: 0.5426 - val_loss: 1.4434 - val_accuracy: 0.4901\n",
      "Epoch 74/100\n",
      "40/40 [==============================] - 2s 54ms/step - loss: 1.2738 - accuracy: 0.5433 - val_loss: 1.4581 - val_accuracy: 0.4848\n",
      "Epoch 75/100\n",
      "40/40 [==============================] - 2s 50ms/step - loss: 1.2714 - accuracy: 0.5453 - val_loss: 1.4493 - val_accuracy: 0.4869\n",
      "Epoch 76/100\n",
      "40/40 [==============================] - 2s 52ms/step - loss: 1.2642 - accuracy: 0.5455 - val_loss: 1.4816 - val_accuracy: 0.4826\n",
      "Epoch 77/100\n",
      "40/40 [==============================] - 2s 52ms/step - loss: 1.2683 - accuracy: 0.5475 - val_loss: 1.4590 - val_accuracy: 0.4869\n",
      "Epoch 78/100\n",
      "40/40 [==============================] - 2s 48ms/step - loss: 1.2624 - accuracy: 0.5474 - val_loss: 1.4520 - val_accuracy: 0.4913\n",
      "Epoch 79/100\n",
      "40/40 [==============================] - 3s 64ms/step - loss: 1.2587 - accuracy: 0.5494 - val_loss: 1.4488 - val_accuracy: 0.4846\n",
      "Epoch 80/100\n",
      "40/40 [==============================] - 2s 59ms/step - loss: 1.2545 - accuracy: 0.5500 - val_loss: 1.4548 - val_accuracy: 0.4845\n",
      "Epoch 81/100\n",
      "40/40 [==============================] - 2s 63ms/step - loss: 1.2450 - accuracy: 0.5543 - val_loss: 1.4600 - val_accuracy: 0.4893\n",
      "Epoch 82/100\n",
      "40/40 [==============================] - 2s 50ms/step - loss: 1.2498 - accuracy: 0.5510 - val_loss: 1.4551 - val_accuracy: 0.4862\n",
      "Epoch 83/100\n",
      "40/40 [==============================] - 2s 48ms/step - loss: 1.2476 - accuracy: 0.5518 - val_loss: 1.4499 - val_accuracy: 0.4891\n",
      "Epoch 84/100\n",
      "40/40 [==============================] - 2s 53ms/step - loss: 1.2506 - accuracy: 0.5528 - val_loss: 1.4508 - val_accuracy: 0.4888\n",
      "Epoch 85/100\n",
      "40/40 [==============================] - 2s 51ms/step - loss: 1.2432 - accuracy: 0.5532 - val_loss: 1.4639 - val_accuracy: 0.4812\n",
      "Epoch 86/100\n",
      "40/40 [==============================] - 2s 50ms/step - loss: 1.2547 - accuracy: 0.5494 - val_loss: 1.4412 - val_accuracy: 0.4917s - loss: 1.2575 - accuracy\n",
      "Epoch 87/100\n",
      "40/40 [==============================] - 3s 70ms/step - loss: 1.2347 - accuracy: 0.5567 - val_loss: 1.4718 - val_accuracy: 0.4785\n",
      "Epoch 88/100\n",
      "40/40 [==============================] - 2s 58ms/step - loss: 1.2433 - accuracy: 0.5554 - val_loss: 1.4809 - val_accuracy: 0.4813\n",
      "Epoch 89/100\n",
      "40/40 [==============================] - 2s 53ms/step - loss: 1.2488 - accuracy: 0.5516 - val_loss: 1.4614 - val_accuracy: 0.4859\n",
      "Epoch 90/100\n",
      "40/40 [==============================] - 2s 55ms/step - loss: 1.2311 - accuracy: 0.5565 - val_loss: 1.4714 - val_accuracy: 0.4858\n",
      "Epoch 91/100\n",
      "40/40 [==============================] - 2s 48ms/step - loss: 1.2279 - accuracy: 0.5582 - val_loss: 1.4440 - val_accuracy: 0.4930\n",
      "Epoch 92/100\n",
      "40/40 [==============================] - 2s 47ms/step - loss: 1.2225 - accuracy: 0.5621 - val_loss: 1.4662 - val_accuracy: 0.4834\n",
      "Epoch 93/100\n",
      "40/40 [==============================] - 2s 50ms/step - loss: 1.2266 - accuracy: 0.5605 - val_loss: 1.4688 - val_accuracy: 0.4876\n",
      "Epoch 94/100\n",
      "40/40 [==============================] - 2s 54ms/step - loss: 1.2287 - accuracy: 0.5581 - val_loss: 1.4654 - val_accuracy: 0.4852\n",
      "Epoch 95/100\n",
      "40/40 [==============================] - 2s 52ms/step - loss: 1.2179 - accuracy: 0.5615 - val_loss: 1.4560 - val_accuracy: 0.4900\n",
      "Epoch 96/100\n",
      "40/40 [==============================] - 2s 49ms/step - loss: 1.2129 - accuracy: 0.5657 - val_loss: 1.4676 - val_accuracy: 0.4835\n",
      "Epoch 97/100\n",
      "40/40 [==============================] - 2s 48ms/step - loss: 1.2203 - accuracy: 0.5621 - val_loss: 1.4679 - val_accuracy: 0.4889\n",
      "Epoch 98/100\n",
      "40/40 [==============================] - 2s 47ms/step - loss: 1.2144 - accuracy: 0.5618 - val_loss: 1.4493 - val_accuracy: 0.4888\n",
      "Epoch 99/100\n",
      "40/40 [==============================] - 2s 53ms/step - loss: 1.2178 - accuracy: 0.5643 - val_loss: 1.4511 - val_accuracy: 0.4890\n",
      "Epoch 100/100\n",
      "40/40 [==============================] - 2s 49ms/step - loss: 1.2121 - accuracy: 0.5646 - val_loss: 1.4535 - val_accuracy: 0.4873\n"
     ]
    },
    {
     "data": {
      "text/plain": [
       "<keras.callbacks.History at 0x27f984ec820>"
      ]
     },
     "execution_count": 30,
     "metadata": {},
     "output_type": "execute_result"
    }
   ],
   "source": [
    "\n",
    "samples_per_batch = 1000\n",
    "nr_epochs=100\n",
    "model_1.fit(x_train,y_train,batch_size=samples_per_batch,epochs=nr_epochs,\n",
    "            callbacks=[get_tensorboard('Model 1')],validation_data=(x_val,y_val))"
   ]
  },
  {
   "cell_type": "code",
   "execution_count": 31,
   "metadata": {},
   "outputs": [
    {
     "name": "stdout",
     "output_type": "stream",
     "text": [
      "Successfully created directory\n",
      "Epoch 1/100\n",
      "40/40 [==============================] - 5s 118ms/step - loss: 2.3004 - accuracy: 0.1326 - val_loss: 2.2642 - val_accuracy: 0.1460\n",
      "Epoch 2/100\n",
      "40/40 [==============================] - 4s 105ms/step - loss: 2.2365 - accuracy: 0.1664 - val_loss: 2.1808 - val_accuracy: 0.1966\n",
      "Epoch 3/100\n",
      "40/40 [==============================] - 4s 101ms/step - loss: 2.1378 - accuracy: 0.1937 - val_loss: 2.0745 - val_accuracy: 0.2012\n",
      "Epoch 4/100\n",
      "40/40 [==============================] - 4s 111ms/step - loss: 2.0413 - accuracy: 0.2375 - val_loss: 1.9825 - val_accuracy: 0.2671\n",
      "Epoch 5/100\n",
      "40/40 [==============================] - 5s 116ms/step - loss: 1.9710 - accuracy: 0.2853 - val_loss: 1.9095 - val_accuracy: 0.3126\n",
      "Epoch 6/100\n",
      "40/40 [==============================] - 4s 101ms/step - loss: 1.9020 - accuracy: 0.3119 - val_loss: 1.8565 - val_accuracy: 0.3215\n",
      "Epoch 7/100\n",
      "40/40 [==============================] - 5s 124ms/step - loss: 1.8564 - accuracy: 0.3257 - val_loss: 1.8092 - val_accuracy: 0.3450\n",
      "Epoch 8/100\n",
      "40/40 [==============================] - 4s 109ms/step - loss: 1.8199 - accuracy: 0.3403 - val_loss: 1.7799 - val_accuracy: 0.3519\n",
      "Epoch 9/100\n",
      "40/40 [==============================] - 4s 112ms/step - loss: 1.7961 - accuracy: 0.3497 - val_loss: 1.7730 - val_accuracy: 0.3549\n",
      "Epoch 10/100\n",
      "40/40 [==============================] - 4s 101ms/step - loss: 1.7750 - accuracy: 0.3584 - val_loss: 1.7446 - val_accuracy: 0.3642\n",
      "Epoch 11/100\n",
      "40/40 [==============================] - 4s 99ms/step - loss: 1.7603 - accuracy: 0.3639 - val_loss: 1.7385 - val_accuracy: 0.3722\n",
      "Epoch 12/100\n",
      "40/40 [==============================] - 4s 106ms/step - loss: 1.7494 - accuracy: 0.3698 - val_loss: 1.7252 - val_accuracy: 0.3732\n",
      "Epoch 13/100\n",
      "40/40 [==============================] - 4s 107ms/step - loss: 1.7276 - accuracy: 0.3787 - val_loss: 1.7297 - val_accuracy: 0.3767\n",
      "Epoch 14/100\n",
      "40/40 [==============================] - 4s 100ms/step - loss: 1.7189 - accuracy: 0.3797 - val_loss: 1.7004 - val_accuracy: 0.3842\n",
      "Epoch 15/100\n",
      "40/40 [==============================] - 4s 107ms/step - loss: 1.7011 - accuracy: 0.3850 - val_loss: 1.6751 - val_accuracy: 0.3948\n",
      "Epoch 16/100\n",
      "40/40 [==============================] - 5s 115ms/step - loss: 1.6830 - accuracy: 0.3938 - val_loss: 1.6604 - val_accuracy: 0.3981\n",
      "Epoch 17/100\n",
      "40/40 [==============================] - 4s 107ms/step - loss: 1.6707 - accuracy: 0.3975 - val_loss: 1.6561 - val_accuracy: 0.3956\n",
      "Epoch 18/100\n",
      "40/40 [==============================] - 4s 103ms/step - loss: 1.6572 - accuracy: 0.4029 - val_loss: 1.6270 - val_accuracy: 0.4067\n",
      "Epoch 19/100\n",
      "40/40 [==============================] - 4s 107ms/step - loss: 1.6531 - accuracy: 0.4061 - val_loss: 1.6330 - val_accuracy: 0.4076\n",
      "Epoch 20/100\n",
      "40/40 [==============================] - 5s 131ms/step - loss: 1.6361 - accuracy: 0.4115 - val_loss: 1.6322 - val_accuracy: 0.4127\n",
      "Epoch 21/100\n",
      "40/40 [==============================] - 4s 109ms/step - loss: 1.6298 - accuracy: 0.4112 - val_loss: 1.6294 - val_accuracy: 0.4084\n",
      "Epoch 22/100\n",
      "40/40 [==============================] - 4s 103ms/step - loss: 1.6239 - accuracy: 0.4142 - val_loss: 1.6006 - val_accuracy: 0.4187\n",
      "Epoch 23/100\n",
      "40/40 [==============================] - 5s 113ms/step - loss: 1.6106 - accuracy: 0.4187 - val_loss: 1.5967 - val_accuracy: 0.4191\n",
      "Epoch 24/100\n",
      "40/40 [==============================] - 5s 118ms/step - loss: 1.6092 - accuracy: 0.4193 - val_loss: 1.6022 - val_accuracy: 0.4187\n",
      "Epoch 25/100\n",
      "40/40 [==============================] - 4s 106ms/step - loss: 1.5961 - accuracy: 0.4234 - val_loss: 1.5879 - val_accuracy: 0.4182\n",
      "Epoch 26/100\n",
      "40/40 [==============================] - 4s 106ms/step - loss: 1.5915 - accuracy: 0.4268 - val_loss: 1.6057 - val_accuracy: 0.4146\n",
      "Epoch 27/100\n",
      "40/40 [==============================] - 5s 121ms/step - loss: 1.5852 - accuracy: 0.4292 - val_loss: 1.5733 - val_accuracy: 0.4300\n",
      "Epoch 28/100\n",
      "40/40 [==============================] - 5s 117ms/step - loss: 1.5837 - accuracy: 0.4272 - val_loss: 1.5771 - val_accuracy: 0.4277\n",
      "Epoch 29/100\n",
      "40/40 [==============================] - 5s 119ms/step - loss: 1.5680 - accuracy: 0.4338 - val_loss: 1.5539 - val_accuracy: 0.4386\n",
      "Epoch 30/100\n",
      "40/40 [==============================] - 5s 117ms/step - loss: 1.5636 - accuracy: 0.4392 - val_loss: 1.5736 - val_accuracy: 0.4275\n",
      "Epoch 31/100\n",
      "40/40 [==============================] - 5s 113ms/step - loss: 1.5590 - accuracy: 0.4387 - val_loss: 1.5593 - val_accuracy: 0.4331\n",
      "Epoch 32/100\n",
      "40/40 [==============================] - 4s 111ms/step - loss: 1.5584 - accuracy: 0.4365 - val_loss: 1.5545 - val_accuracy: 0.4307\n",
      "Epoch 33/100\n",
      "40/40 [==============================] - 4s 104ms/step - loss: 1.5432 - accuracy: 0.4445 - val_loss: 1.5467 - val_accuracy: 0.4408\n",
      "Epoch 34/100\n",
      "40/40 [==============================] - 5s 114ms/step - loss: 1.5383 - accuracy: 0.4479 - val_loss: 1.5416 - val_accuracy: 0.4404\n",
      "Epoch 35/100\n",
      "40/40 [==============================] - 4s 103ms/step - loss: 1.5313 - accuracy: 0.4496 - val_loss: 1.5269 - val_accuracy: 0.4434\n",
      "Epoch 36/100\n",
      "40/40 [==============================] - 4s 102ms/step - loss: 1.5341 - accuracy: 0.4481 - val_loss: 1.5813 - val_accuracy: 0.4262\n",
      "Epoch 37/100\n",
      "40/40 [==============================] - 4s 99ms/step - loss: 1.5301 - accuracy: 0.4495 - val_loss: 1.5361 - val_accuracy: 0.4469\n",
      "Epoch 38/100\n",
      "40/40 [==============================] - 4s 109ms/step - loss: 1.5152 - accuracy: 0.4553 - val_loss: 1.5286 - val_accuracy: 0.4482\n",
      "Epoch 39/100\n",
      "40/40 [==============================] - 5s 137ms/step - loss: 1.5124 - accuracy: 0.4559 - val_loss: 1.5118 - val_accuracy: 0.4542\n",
      "Epoch 40/100\n",
      "40/40 [==============================] - 4s 102ms/step - loss: 1.5180 - accuracy: 0.4557 - val_loss: 1.5192 - val_accuracy: 0.4511\n",
      "Epoch 41/100\n",
      "40/40 [==============================] - 4s 112ms/step - loss: 1.5058 - accuracy: 0.4602 - val_loss: 1.5128 - val_accuracy: 0.4593\n",
      "Epoch 42/100\n",
      "40/40 [==============================] - 5s 131ms/step - loss: 1.5030 - accuracy: 0.4597 - val_loss: 1.5264 - val_accuracy: 0.4520\n",
      "Epoch 43/100\n",
      "40/40 [==============================] - 4s 107ms/step - loss: 1.4978 - accuracy: 0.4613 - val_loss: 1.5083 - val_accuracy: 0.4561\n",
      "Epoch 44/100\n",
      "40/40 [==============================] - 5s 122ms/step - loss: 1.4959 - accuracy: 0.4624 - val_loss: 1.5104 - val_accuracy: 0.4554\n",
      "Epoch 45/100\n",
      "40/40 [==============================] - 5s 135ms/step - loss: 1.4924 - accuracy: 0.4649 - val_loss: 1.5148 - val_accuracy: 0.4522\n",
      "Epoch 46/100\n",
      "40/40 [==============================] - 5s 113ms/step - loss: 1.4918 - accuracy: 0.4623 - val_loss: 1.5046 - val_accuracy: 0.4564\n",
      "Epoch 47/100\n",
      "40/40 [==============================] - 4s 111ms/step - loss: 1.4791 - accuracy: 0.4682 - val_loss: 1.5026 - val_accuracy: 0.4616\n",
      "Epoch 48/100\n",
      "40/40 [==============================] - 5s 113ms/step - loss: 1.4824 - accuracy: 0.4670 - val_loss: 1.5052 - val_accuracy: 0.4555\n",
      "Epoch 49/100\n",
      "40/40 [==============================] - 4s 109ms/step - loss: 1.4757 - accuracy: 0.4709 - val_loss: 1.5038 - val_accuracy: 0.4590\n",
      "Epoch 50/100\n",
      "40/40 [==============================] - 4s 110ms/step - loss: 1.4703 - accuracy: 0.4696 - val_loss: 1.4879 - val_accuracy: 0.4654\n",
      "Epoch 51/100\n",
      "40/40 [==============================] - 5s 118ms/step - loss: 1.4672 - accuracy: 0.4708 - val_loss: 1.4894 - val_accuracy: 0.4640\n",
      "Epoch 52/100\n",
      "40/40 [==============================] - 4s 109ms/step - loss: 1.4665 - accuracy: 0.4749 - val_loss: 1.4883 - val_accuracy: 0.4639\n",
      "Epoch 53/100\n",
      "40/40 [==============================] - 4s 113ms/step - loss: 1.4652 - accuracy: 0.4751 - val_loss: 1.4826 - val_accuracy: 0.4677\n",
      "Epoch 54/100\n",
      "40/40 [==============================] - 4s 106ms/step - loss: 1.4633 - accuracy: 0.4751 - val_loss: 1.4995 - val_accuracy: 0.4554\n",
      "Epoch 55/100\n",
      "40/40 [==============================] - 4s 107ms/step - loss: 1.4596 - accuracy: 0.4771 - val_loss: 1.4884 - val_accuracy: 0.4630\n",
      "Epoch 56/100\n",
      "40/40 [==============================] - 4s 108ms/step - loss: 1.4534 - accuracy: 0.4801 - val_loss: 1.4854 - val_accuracy: 0.4641\n",
      "Epoch 57/100\n",
      "40/40 [==============================] - 4s 103ms/step - loss: 1.4561 - accuracy: 0.4766 - val_loss: 1.4765 - val_accuracy: 0.4718\n"
     ]
    },
    {
     "name": "stdout",
     "output_type": "stream",
     "text": [
      "Epoch 58/100\n",
      "40/40 [==============================] - 4s 100ms/step - loss: 1.4472 - accuracy: 0.4825 - val_loss: 1.4812 - val_accuracy: 0.4663\n",
      "Epoch 59/100\n",
      "40/40 [==============================] - 4s 110ms/step - loss: 1.4469 - accuracy: 0.4808 - val_loss: 1.4797 - val_accuracy: 0.4663\n",
      "Epoch 60/100\n",
      "40/40 [==============================] - 4s 104ms/step - loss: 1.4462 - accuracy: 0.4826 - val_loss: 1.4852 - val_accuracy: 0.4673\n",
      "Epoch 61/100\n",
      "40/40 [==============================] - 4s 104ms/step - loss: 1.4467 - accuracy: 0.4806 - val_loss: 1.4762 - val_accuracy: 0.4661\n",
      "Epoch 62/100\n",
      "40/40 [==============================] - 5s 116ms/step - loss: 1.4454 - accuracy: 0.4833 - val_loss: 1.4684 - val_accuracy: 0.4727\n",
      "Epoch 63/100\n",
      "40/40 [==============================] - 6s 149ms/step - loss: 1.4382 - accuracy: 0.4821 - val_loss: 1.4694 - val_accuracy: 0.4709\n",
      "Epoch 64/100\n",
      "40/40 [==============================] - 6s 145ms/step - loss: 1.4305 - accuracy: 0.4873 - val_loss: 1.4757 - val_accuracy: 0.4677\n",
      "Epoch 65/100\n",
      "40/40 [==============================] - 6s 142ms/step - loss: 1.4371 - accuracy: 0.4861 - val_loss: 1.4804 - val_accuracy: 0.4672\n",
      "Epoch 66/100\n",
      "40/40 [==============================] - 5s 125ms/step - loss: 1.4321 - accuracy: 0.4851 - val_loss: 1.4689 - val_accuracy: 0.4702\n",
      "Epoch 67/100\n",
      "40/40 [==============================] - 4s 102ms/step - loss: 1.4277 - accuracy: 0.4850 - val_loss: 1.4632 - val_accuracy: 0.4719\n",
      "Epoch 68/100\n",
      "40/40 [==============================] - 4s 103ms/step - loss: 1.4281 - accuracy: 0.4886 - val_loss: 1.4705 - val_accuracy: 0.4688\n",
      "Epoch 69/100\n",
      "40/40 [==============================] - 4s 109ms/step - loss: 1.4297 - accuracy: 0.4886 - val_loss: 1.4766 - val_accuracy: 0.4689\n",
      "Epoch 70/100\n",
      "40/40 [==============================] - 4s 104ms/step - loss: 1.4300 - accuracy: 0.4911 - val_loss: 1.4649 - val_accuracy: 0.4724\n",
      "Epoch 71/100\n",
      "40/40 [==============================] - 4s 102ms/step - loss: 1.4339 - accuracy: 0.4877 - val_loss: 1.4979 - val_accuracy: 0.4657\n",
      "Epoch 72/100\n",
      "40/40 [==============================] - 4s 101ms/step - loss: 1.4178 - accuracy: 0.4876 - val_loss: 1.4709 - val_accuracy: 0.4720\n",
      "Epoch 73/100\n",
      "40/40 [==============================] - 4s 111ms/step - loss: 1.4260 - accuracy: 0.4887 - val_loss: 1.4641 - val_accuracy: 0.4736\n",
      "Epoch 74/100\n",
      "40/40 [==============================] - 5s 117ms/step - loss: 1.4222 - accuracy: 0.4890 - val_loss: 1.4629 - val_accuracy: 0.4735\n",
      "Epoch 75/100\n",
      "40/40 [==============================] - 4s 105ms/step - loss: 1.4201 - accuracy: 0.4890 - val_loss: 1.4555 - val_accuracy: 0.4774\n",
      "Epoch 76/100\n",
      "40/40 [==============================] - 4s 108ms/step - loss: 1.4147 - accuracy: 0.4936 - val_loss: 1.4658 - val_accuracy: 0.4737\n",
      "Epoch 77/100\n",
      "40/40 [==============================] - 5s 115ms/step - loss: 1.4113 - accuracy: 0.4935 - val_loss: 1.4571 - val_accuracy: 0.4765\n",
      "Epoch 78/100\n",
      "40/40 [==============================] - 4s 100ms/step - loss: 1.4134 - accuracy: 0.4912 - val_loss: 1.4665 - val_accuracy: 0.4702\n",
      "Epoch 79/100\n",
      "40/40 [==============================] - 4s 100ms/step - loss: 1.4177 - accuracy: 0.4911 - val_loss: 1.4653 - val_accuracy: 0.4737\n",
      "Epoch 80/100\n",
      "40/40 [==============================] - 4s 106ms/step - loss: 1.4106 - accuracy: 0.4955 - val_loss: 1.4564 - val_accuracy: 0.4774\n",
      "Epoch 81/100\n",
      "40/40 [==============================] - 4s 107ms/step - loss: 1.4070 - accuracy: 0.4928 - val_loss: 1.4525 - val_accuracy: 0.4783\n",
      "Epoch 82/100\n",
      "40/40 [==============================] - 4s 103ms/step - loss: 1.3999 - accuracy: 0.4969 - val_loss: 1.4498 - val_accuracy: 0.4776\n",
      "Epoch 83/100\n",
      "40/40 [==============================] - 4s 107ms/step - loss: 1.4060 - accuracy: 0.4975 - val_loss: 1.4588 - val_accuracy: 0.4787\n",
      "Epoch 84/100\n",
      "40/40 [==============================] - 4s 107ms/step - loss: 1.4029 - accuracy: 0.4958 - val_loss: 1.4724 - val_accuracy: 0.4690\n",
      "Epoch 85/100\n",
      "40/40 [==============================] - 4s 105ms/step - loss: 1.3983 - accuracy: 0.4973 - val_loss: 1.4628 - val_accuracy: 0.4749\n",
      "Epoch 86/100\n",
      "40/40 [==============================] - 4s 101ms/step - loss: 1.3975 - accuracy: 0.5008 - val_loss: 1.4549 - val_accuracy: 0.4779\n",
      "Epoch 87/100\n",
      "40/40 [==============================] - 4s 103ms/step - loss: 1.3966 - accuracy: 0.4972 - val_loss: 1.4475 - val_accuracy: 0.4790\n",
      "Epoch 88/100\n",
      "40/40 [==============================] - 4s 105ms/step - loss: 1.3948 - accuracy: 0.5006 - val_loss: 1.4568 - val_accuracy: 0.4767\n",
      "Epoch 89/100\n",
      "40/40 [==============================] - 4s 107ms/step - loss: 1.4067 - accuracy: 0.4937 - val_loss: 1.4544 - val_accuracy: 0.4798\n",
      "Epoch 90/100\n",
      "40/40 [==============================] - 4s 101ms/step - loss: 1.3965 - accuracy: 0.4983 - val_loss: 1.4707 - val_accuracy: 0.4786\n",
      "Epoch 91/100\n",
      "40/40 [==============================] - 4s 103ms/step - loss: 1.3926 - accuracy: 0.5007 - val_loss: 1.4533 - val_accuracy: 0.4798\n",
      "Epoch 92/100\n",
      "40/40 [==============================] - 4s 108ms/step - loss: 1.3854 - accuracy: 0.5029 - val_loss: 1.4489 - val_accuracy: 0.4786\n",
      "Epoch 93/100\n",
      "40/40 [==============================] - 4s 107ms/step - loss: 1.3876 - accuracy: 0.5023 - val_loss: 1.4578 - val_accuracy: 0.4793\n",
      "Epoch 94/100\n",
      "40/40 [==============================] - 4s 102ms/step - loss: 1.3853 - accuracy: 0.5024 - val_loss: 1.4546 - val_accuracy: 0.4817\n",
      "Epoch 95/100\n",
      "40/40 [==============================] - 4s 98ms/step - loss: 1.3897 - accuracy: 0.5038 - val_loss: 1.4505 - val_accuracy: 0.4771\n",
      "Epoch 96/100\n",
      "40/40 [==============================] - 5s 122ms/step - loss: 1.3872 - accuracy: 0.5026 - val_loss: 1.4484 - val_accuracy: 0.4810\n",
      "Epoch 97/100\n",
      "40/40 [==============================] - 6s 145ms/step - loss: 1.3880 - accuracy: 0.4989 - val_loss: 1.4571 - val_accuracy: 0.4766\n",
      "Epoch 98/100\n",
      "40/40 [==============================] - 5s 123ms/step - loss: 1.3851 - accuracy: 0.5064 - val_loss: 1.4488 - val_accuracy: 0.4814\n",
      "Epoch 99/100\n",
      "40/40 [==============================] - 5s 128ms/step - loss: 1.3872 - accuracy: 0.5012 - val_loss: 1.4502 - val_accuracy: 0.4806\n",
      "Epoch 100/100\n",
      "40/40 [==============================] - 5s 119ms/step - loss: 1.3795 - accuracy: 0.5047 - val_loss: 1.4476 - val_accuracy: 0.4806\n"
     ]
    },
    {
     "data": {
      "text/plain": [
       "<keras.callbacks.History at 0x27f89785700>"
      ]
     },
     "execution_count": 31,
     "metadata": {},
     "output_type": "execute_result"
    }
   ],
   "source": [
    "samples_per_batch = 1000\n",
    "nr_epochs=100\n",
    "model_2.fit(x_train,y_train,batch_size=samples_per_batch,epochs=nr_epochs,\n",
    "            callbacks=[get_tensorboard('Model 2')],validation_data=(x_val,y_val))"
   ]
  },
  {
   "cell_type": "code",
   "execution_count": 32,
   "metadata": {},
   "outputs": [
    {
     "name": "stdout",
     "output_type": "stream",
     "text": [
      "Successfully created directory\n",
      "Epoch 1/100\n",
      "40/40 [==============================] - 7s 139ms/step - loss: 2.2678 - accuracy: 0.1485 - val_loss: 2.1347 - val_accuracy: 0.2134\n",
      "Epoch 2/100\n",
      "40/40 [==============================] - 6s 148ms/step - loss: 2.0979 - accuracy: 0.2136 - val_loss: 2.0005 - val_accuracy: 0.2608\n",
      "Epoch 3/100\n",
      "40/40 [==============================] - 5s 116ms/step - loss: 2.0052 - accuracy: 0.2527 - val_loss: 1.9264 - val_accuracy: 0.2935\n",
      "Epoch 4/100\n",
      "40/40 [==============================] - 6s 163ms/step - loss: 1.9532 - accuracy: 0.2779 - val_loss: 1.8720 - val_accuracy: 0.3165\n",
      "Epoch 5/100\n",
      "40/40 [==============================] - 6s 144ms/step - loss: 1.9050 - accuracy: 0.3015 - val_loss: 1.8365 - val_accuracy: 0.3301\n",
      "Epoch 6/100\n",
      "40/40 [==============================] - 5s 129ms/step - loss: 1.8759 - accuracy: 0.3181 - val_loss: 1.8049 - val_accuracy: 0.3544\n",
      "Epoch 7/100\n",
      "40/40 [==============================] - 5s 125ms/step - loss: 1.8479 - accuracy: 0.3331 - val_loss: 1.7735 - val_accuracy: 0.3681\n",
      "Epoch 8/100\n",
      "40/40 [==============================] - 6s 141ms/step - loss: 1.8220 - accuracy: 0.3428 - val_loss: 1.7361 - val_accuracy: 0.3802\n",
      "Epoch 9/100\n",
      "40/40 [==============================] - 5s 122ms/step - loss: 1.8006 - accuracy: 0.3513 - val_loss: 1.7173 - val_accuracy: 0.3843\n",
      "Epoch 10/100\n",
      "40/40 [==============================] - 5s 122ms/step - loss: 1.7825 - accuracy: 0.3587 - val_loss: 1.6896 - val_accuracy: 0.3976\n",
      "Epoch 11/100\n",
      "40/40 [==============================] - 5s 133ms/step - loss: 1.7605 - accuracy: 0.3691 - val_loss: 1.6692 - val_accuracy: 0.4086\n",
      "Epoch 12/100\n",
      "40/40 [==============================] - 5s 125ms/step - loss: 1.7454 - accuracy: 0.3721 - val_loss: 1.6665 - val_accuracy: 0.3996\n",
      "Epoch 13/100\n",
      "40/40 [==============================] - 5s 123ms/step - loss: 1.7340 - accuracy: 0.3779 - val_loss: 1.6578 - val_accuracy: 0.4032\n",
      "Epoch 14/100\n",
      "40/40 [==============================] - 5s 132ms/step - loss: 1.7208 - accuracy: 0.3850 - val_loss: 1.6336 - val_accuracy: 0.4134\n",
      "Epoch 15/100\n",
      "40/40 [==============================] - 5s 115ms/step - loss: 1.7123 - accuracy: 0.3845 - val_loss: 1.6195 - val_accuracy: 0.4236\n",
      "Epoch 16/100\n",
      "40/40 [==============================] - 4s 112ms/step - loss: 1.7043 - accuracy: 0.3866 - val_loss: 1.6253 - val_accuracy: 0.4103\n",
      "Epoch 17/100\n",
      "40/40 [==============================] - 5s 122ms/step - loss: 1.6935 - accuracy: 0.3938 - val_loss: 1.6042 - val_accuracy: 0.4235\n",
      "Epoch 18/100\n",
      "40/40 [==============================] - 5s 131ms/step - loss: 1.6796 - accuracy: 0.3997 - val_loss: 1.5970 - val_accuracy: 0.4300\n",
      "Epoch 19/100\n",
      "40/40 [==============================] - 5s 116ms/step - loss: 1.6749 - accuracy: 0.4008 - val_loss: 1.6034 - val_accuracy: 0.4294\n",
      "Epoch 20/100\n",
      "40/40 [==============================] - 5s 121ms/step - loss: 1.6621 - accuracy: 0.4030 - val_loss: 1.5898 - val_accuracy: 0.4328\n",
      "Epoch 21/100\n",
      "40/40 [==============================] - 5s 115ms/step - loss: 1.6660 - accuracy: 0.4027 - val_loss: 1.5797 - val_accuracy: 0.4384\n",
      "Epoch 22/100\n",
      "40/40 [==============================] - 4s 104ms/step - loss: 1.6565 - accuracy: 0.4078 - val_loss: 1.5799 - val_accuracy: 0.4356\n",
      "Epoch 23/100\n",
      "40/40 [==============================] - 4s 104ms/step - loss: 1.6522 - accuracy: 0.4074 - val_loss: 1.5792 - val_accuracy: 0.4348\n",
      "Epoch 24/100\n",
      "40/40 [==============================] - 4s 109ms/step - loss: 1.6415 - accuracy: 0.4126 - val_loss: 1.5729 - val_accuracy: 0.4381\n",
      "Epoch 25/100\n",
      "40/40 [==============================] - 4s 107ms/step - loss: 1.6351 - accuracy: 0.4129 - val_loss: 1.5730 - val_accuracy: 0.4430\n",
      "Epoch 26/100\n",
      "40/40 [==============================] - 5s 119ms/step - loss: 1.6316 - accuracy: 0.4154 - val_loss: 1.5470 - val_accuracy: 0.4490\n",
      "Epoch 27/100\n",
      "40/40 [==============================] - 5s 118ms/step - loss: 1.6301 - accuracy: 0.4143 - val_loss: 1.5478 - val_accuracy: 0.4459\n",
      "Epoch 28/100\n",
      "40/40 [==============================] - 5s 129ms/step - loss: 1.6268 - accuracy: 0.4161 - val_loss: 1.5496 - val_accuracy: 0.4470\n",
      "Epoch 29/100\n",
      "40/40 [==============================] - 5s 118ms/step - loss: 1.6194 - accuracy: 0.4177 - val_loss: 1.5445 - val_accuracy: 0.4530\n",
      "Epoch 30/100\n",
      "40/40 [==============================] - 4s 112ms/step - loss: 1.6153 - accuracy: 0.4230 - val_loss: 1.5534 - val_accuracy: 0.4482\n",
      "Epoch 31/100\n",
      "40/40 [==============================] - 5s 126ms/step - loss: 1.6177 - accuracy: 0.4206 - val_loss: 1.5414 - val_accuracy: 0.4505\n",
      "Epoch 32/100\n",
      "40/40 [==============================] - 5s 118ms/step - loss: 1.6116 - accuracy: 0.4224 - val_loss: 1.5336 - val_accuracy: 0.4586\n",
      "Epoch 33/100\n",
      "40/40 [==============================] - 5s 116ms/step - loss: 1.5997 - accuracy: 0.4247 - val_loss: 1.5244 - val_accuracy: 0.4632\n",
      "Epoch 34/100\n",
      "40/40 [==============================] - 5s 120ms/step - loss: 1.6036 - accuracy: 0.4247 - val_loss: 1.5259 - val_accuracy: 0.4566\n",
      "Epoch 35/100\n",
      "40/40 [==============================] - 5s 122ms/step - loss: 1.5969 - accuracy: 0.4261 - val_loss: 1.5249 - val_accuracy: 0.4678\n",
      "Epoch 36/100\n",
      "40/40 [==============================] - 5s 113ms/step - loss: 1.5977 - accuracy: 0.4261 - val_loss: 1.5170 - val_accuracy: 0.4635\n",
      "Epoch 37/100\n",
      "40/40 [==============================] - 4s 112ms/step - loss: 1.5962 - accuracy: 0.4273 - val_loss: 1.5083 - val_accuracy: 0.4685\n",
      "Epoch 38/100\n",
      "40/40 [==============================] - 5s 129ms/step - loss: 1.5941 - accuracy: 0.4264 - val_loss: 1.5160 - val_accuracy: 0.4647\n",
      "Epoch 39/100\n",
      "40/40 [==============================] - 5s 114ms/step - loss: 1.5877 - accuracy: 0.4288 - val_loss: 1.5022 - val_accuracy: 0.4693\n",
      "Epoch 40/100\n",
      "40/40 [==============================] - 4s 111ms/step - loss: 1.5756 - accuracy: 0.4364 - val_loss: 1.5006 - val_accuracy: 0.4713\n",
      "Epoch 41/100\n",
      "40/40 [==============================] - 5s 121ms/step - loss: 1.5813 - accuracy: 0.4335 - val_loss: 1.5331 - val_accuracy: 0.4523\n",
      "Epoch 42/100\n",
      "40/40 [==============================] - 5s 122ms/step - loss: 1.5774 - accuracy: 0.4313 - val_loss: 1.5167 - val_accuracy: 0.4549\n",
      "Epoch 43/100\n",
      "40/40 [==============================] - 5s 116ms/step - loss: 1.5761 - accuracy: 0.4299 - val_loss: 1.5040 - val_accuracy: 0.4648\n",
      "Epoch 44/100\n",
      "40/40 [==============================] - 5s 114ms/step - loss: 1.5656 - accuracy: 0.4363 - val_loss: 1.5009 - val_accuracy: 0.4672\n",
      "Epoch 45/100\n",
      "40/40 [==============================] - 5s 125ms/step - loss: 1.5661 - accuracy: 0.4377 - val_loss: 1.5030 - val_accuracy: 0.4750\n",
      "Epoch 46/100\n",
      "40/40 [==============================] - 5s 115ms/step - loss: 1.5630 - accuracy: 0.4376 - val_loss: 1.5014 - val_accuracy: 0.4684\n",
      "Epoch 47/100\n",
      "40/40 [==============================] - 5s 115ms/step - loss: 1.5681 - accuracy: 0.4354 - val_loss: 1.4919 - val_accuracy: 0.4694\n",
      "Epoch 48/100\n",
      "40/40 [==============================] - 5s 126ms/step - loss: 1.5628 - accuracy: 0.4377 - val_loss: 1.4826 - val_accuracy: 0.4702\n",
      "Epoch 49/100\n",
      "40/40 [==============================] - 5s 115ms/step - loss: 1.5567 - accuracy: 0.4377 - val_loss: 1.4872 - val_accuracy: 0.4703\n",
      "Epoch 50/100\n",
      "40/40 [==============================] - 5s 114ms/step - loss: 1.5573 - accuracy: 0.4389 - val_loss: 1.4966 - val_accuracy: 0.4643\n",
      "Epoch 51/100\n",
      "40/40 [==============================] - 5s 119ms/step - loss: 1.5536 - accuracy: 0.4405 - val_loss: 1.4799 - val_accuracy: 0.4751\n",
      "Epoch 52/100\n",
      "40/40 [==============================] - 5s 123ms/step - loss: 1.5492 - accuracy: 0.4440 - val_loss: 1.4874 - val_accuracy: 0.4774\n",
      "Epoch 53/100\n",
      "40/40 [==============================] - 5s 116ms/step - loss: 1.5476 - accuracy: 0.4426 - val_loss: 1.4785 - val_accuracy: 0.4756\n",
      "Epoch 54/100\n",
      "40/40 [==============================] - 4s 111ms/step - loss: 1.5452 - accuracy: 0.4433 - val_loss: 1.4644 - val_accuracy: 0.4799\n",
      "Epoch 55/100\n",
      "40/40 [==============================] - 5s 128ms/step - loss: 1.5484 - accuracy: 0.4457 - val_loss: 1.4648 - val_accuracy: 0.4850\n",
      "Epoch 56/100\n",
      "40/40 [==============================] - 5s 114ms/step - loss: 1.5482 - accuracy: 0.4425 - val_loss: 1.4643 - val_accuracy: 0.4866\n",
      "Epoch 57/100\n",
      "40/40 [==============================] - 4s 113ms/step - loss: 1.5423 - accuracy: 0.4444 - val_loss: 1.4756 - val_accuracy: 0.4750\n"
     ]
    },
    {
     "name": "stdout",
     "output_type": "stream",
     "text": [
      "Epoch 58/100\n",
      "40/40 [==============================] - 5s 123ms/step - loss: 1.5437 - accuracy: 0.4439 - val_loss: 1.4790 - val_accuracy: 0.4781\n",
      "Epoch 59/100\n",
      "40/40 [==============================] - 5s 119ms/step - loss: 1.5413 - accuracy: 0.4459 - val_loss: 1.4744 - val_accuracy: 0.4813\n",
      "Epoch 60/100\n",
      "40/40 [==============================] - 4s 110ms/step - loss: 1.5378 - accuracy: 0.4511 - val_loss: 1.4673 - val_accuracy: 0.4844\n",
      "Epoch 61/100\n",
      "40/40 [==============================] - 4s 104ms/step - loss: 1.5357 - accuracy: 0.4475 - val_loss: 1.4618 - val_accuracy: 0.4793\n",
      "Epoch 62/100\n",
      "40/40 [==============================] - 4s 112ms/step - loss: 1.5364 - accuracy: 0.4471 - val_loss: 1.4638 - val_accuracy: 0.4802\n",
      "Epoch 63/100\n",
      "40/40 [==============================] - 4s 101ms/step - loss: 1.5308 - accuracy: 0.4516 - val_loss: 1.4670 - val_accuracy: 0.4855\n",
      "Epoch 64/100\n",
      "40/40 [==============================] - 4s 103ms/step - loss: 1.5352 - accuracy: 0.4498 - val_loss: 1.4555 - val_accuracy: 0.4838\n",
      "Epoch 65/100\n",
      "40/40 [==============================] - 4s 110ms/step - loss: 1.5345 - accuracy: 0.4489 - val_loss: 1.4615 - val_accuracy: 0.4814\n",
      "Epoch 66/100\n",
      "40/40 [==============================] - 4s 109ms/step - loss: 1.5325 - accuracy: 0.4464 - val_loss: 1.4640 - val_accuracy: 0.4814\n",
      "Epoch 67/100\n",
      "40/40 [==============================] - 4s 102ms/step - loss: 1.5315 - accuracy: 0.4481 - val_loss: 1.4554 - val_accuracy: 0.4868\n",
      "Epoch 68/100\n",
      "40/40 [==============================] - 4s 102ms/step - loss: 1.5274 - accuracy: 0.4511 - val_loss: 1.4562 - val_accuracy: 0.4861\n",
      "Epoch 69/100\n",
      "40/40 [==============================] - 4s 107ms/step - loss: 1.5262 - accuracy: 0.4518 - val_loss: 1.4640 - val_accuracy: 0.4761\n",
      "Epoch 70/100\n",
      "40/40 [==============================] - 4s 107ms/step - loss: 1.5195 - accuracy: 0.4513 - val_loss: 1.4378 - val_accuracy: 0.4891\n",
      "Epoch 71/100\n",
      "40/40 [==============================] - 4s 104ms/step - loss: 1.5218 - accuracy: 0.4522 - val_loss: 1.4839 - val_accuracy: 0.4767\n",
      "Epoch 72/100\n",
      "40/40 [==============================] - 5s 123ms/step - loss: 1.5280 - accuracy: 0.4511 - val_loss: 1.4666 - val_accuracy: 0.4805\n",
      "Epoch 73/100\n",
      "40/40 [==============================] - 5s 130ms/step - loss: 1.5267 - accuracy: 0.4512 - val_loss: 1.4628 - val_accuracy: 0.4819\n",
      "Epoch 74/100\n",
      "40/40 [==============================] - 6s 151ms/step - loss: 1.5235 - accuracy: 0.4516 - val_loss: 1.4529 - val_accuracy: 0.4889\n",
      "Epoch 75/100\n",
      "40/40 [==============================] - 5s 133ms/step - loss: 1.5119 - accuracy: 0.4564 - val_loss: 1.4422 - val_accuracy: 0.4906\n",
      "Epoch 76/100\n",
      "40/40 [==============================] - 5s 136ms/step - loss: 1.5095 - accuracy: 0.4578 - val_loss: 1.4357 - val_accuracy: 0.4909\n",
      "Epoch 77/100\n",
      "40/40 [==============================] - 5s 120ms/step - loss: 1.5099 - accuracy: 0.4555 - val_loss: 1.4497 - val_accuracy: 0.4840\n",
      "Epoch 78/100\n",
      "40/40 [==============================] - 5s 124ms/step - loss: 1.5123 - accuracy: 0.4534 - val_loss: 1.4477 - val_accuracy: 0.4846\n",
      "Epoch 79/100\n",
      "40/40 [==============================] - 6s 142ms/step - loss: 1.5134 - accuracy: 0.4552 - val_loss: 1.4472 - val_accuracy: 0.4877\n",
      "Epoch 80/100\n",
      "40/40 [==============================] - 6s 141ms/step - loss: 1.5144 - accuracy: 0.4554 - val_loss: 1.4544 - val_accuracy: 0.4881\n",
      "Epoch 81/100\n",
      "40/40 [==============================] - 5s 122ms/step - loss: 1.5167 - accuracy: 0.4545 - val_loss: 1.4450 - val_accuracy: 0.4911\n",
      "Epoch 82/100\n",
      "40/40 [==============================] - 5s 122ms/step - loss: 1.5014 - accuracy: 0.4595 - val_loss: 1.4400 - val_accuracy: 0.4925\n",
      "Epoch 83/100\n",
      "40/40 [==============================] - 4s 102ms/step - loss: 1.5068 - accuracy: 0.4563 - val_loss: 1.4505 - val_accuracy: 0.4845\n",
      "Epoch 84/100\n",
      "40/40 [==============================] - 4s 103ms/step - loss: 1.5069 - accuracy: 0.4573 - val_loss: 1.4443 - val_accuracy: 0.4900\n",
      "Epoch 85/100\n",
      "40/40 [==============================] - 4s 104ms/step - loss: 1.5027 - accuracy: 0.4587 - val_loss: 1.4465 - val_accuracy: 0.4869\n",
      "Epoch 86/100\n",
      "40/40 [==============================] - 6s 140ms/step - loss: 1.5100 - accuracy: 0.4575 - val_loss: 1.4447 - val_accuracy: 0.4870\n",
      "Epoch 87/100\n",
      "40/40 [==============================] - 4s 110ms/step - loss: 1.5102 - accuracy: 0.4575 - val_loss: 1.4458 - val_accuracy: 0.4897\n",
      "Epoch 88/100\n",
      "40/40 [==============================] - 4s 108ms/step - loss: 1.4983 - accuracy: 0.4609 - val_loss: 1.4218 - val_accuracy: 0.4975\n",
      "Epoch 89/100\n",
      "40/40 [==============================] - 5s 116ms/step - loss: 1.5073 - accuracy: 0.4569 - val_loss: 1.4392 - val_accuracy: 0.4933\n",
      "Epoch 90/100\n",
      "40/40 [==============================] - 5s 116ms/step - loss: 1.4998 - accuracy: 0.4600 - val_loss: 1.4450 - val_accuracy: 0.4891\n",
      "Epoch 91/100\n",
      "40/40 [==============================] - 4s 107ms/step - loss: 1.5044 - accuracy: 0.4592 - val_loss: 1.4415 - val_accuracy: 0.4929\n",
      "Epoch 92/100\n",
      "40/40 [==============================] - 4s 109ms/step - loss: 1.4997 - accuracy: 0.4597 - val_loss: 1.4458 - val_accuracy: 0.4851\n",
      "Epoch 93/100\n",
      "40/40 [==============================] - 5s 129ms/step - loss: 1.4992 - accuracy: 0.4604 - val_loss: 1.4406 - val_accuracy: 0.4903\n",
      "Epoch 94/100\n",
      "40/40 [==============================] - 4s 111ms/step - loss: 1.5008 - accuracy: 0.4594 - val_loss: 1.4339 - val_accuracy: 0.4960\n",
      "Epoch 95/100\n",
      "40/40 [==============================] - 4s 104ms/step - loss: 1.4982 - accuracy: 0.4638 - val_loss: 1.4335 - val_accuracy: 0.4905\n",
      "Epoch 96/100\n",
      "40/40 [==============================] - 4s 109ms/step - loss: 1.5000 - accuracy: 0.4590 - val_loss: 1.4361 - val_accuracy: 0.4924\n",
      "Epoch 97/100\n",
      "40/40 [==============================] - 4s 110ms/step - loss: 1.4961 - accuracy: 0.4606 - val_loss: 1.4600 - val_accuracy: 0.4777\n",
      "Epoch 98/100\n",
      "40/40 [==============================] - 4s 102ms/step - loss: 1.5036 - accuracy: 0.4585 - val_loss: 1.4426 - val_accuracy: 0.4851\n",
      "Epoch 99/100\n",
      "40/40 [==============================] - 4s 109ms/step - loss: 1.4996 - accuracy: 0.4563 - val_loss: 1.4325 - val_accuracy: 0.4893\n",
      "Epoch 100/100\n",
      "40/40 [==============================] - 5s 125ms/step - loss: 1.4978 - accuracy: 0.4636 - val_loss: 1.4221 - val_accuracy: 0.4916\n"
     ]
    },
    {
     "data": {
      "text/plain": [
       "<keras.callbacks.History at 0x27fb7bfd2e0>"
      ]
     },
     "execution_count": 32,
     "metadata": {},
     "output_type": "execute_result"
    }
   ],
   "source": [
    "samples_per_batch = 1000\n",
    "nr_epochs=100\n",
    "model_3.fit(x_train,y_train,batch_size=samples_per_batch,epochs=nr_epochs,\n",
    "            callbacks=[get_tensorboard('Model 3')],validation_data=(x_val,y_val))"
   ]
  },
  {
   "cell_type": "markdown",
   "metadata": {},
   "source": [
    "## Predictions"
   ]
  },
  {
   "cell_type": "code",
   "execution_count": 33,
   "metadata": {},
   "outputs": [
    {
     "data": {
      "text/plain": [
       "(3072,)"
      ]
     },
     "execution_count": 33,
     "metadata": {},
     "output_type": "execute_result"
    }
   ],
   "source": [
    "x_val[4].shape"
   ]
  },
  {
   "cell_type": "code",
   "execution_count": 34,
   "metadata": {},
   "outputs": [
    {
     "data": {
      "text/plain": [
       "(10000, 3072)"
      ]
     },
     "execution_count": 34,
     "metadata": {},
     "output_type": "execute_result"
    }
   ],
   "source": [
    "x_val.shape"
   ]
  },
  {
   "cell_type": "code",
   "execution_count": 35,
   "metadata": {},
   "outputs": [],
   "source": [
    "test = np.expand_dims(x_val[4], axis=0)"
   ]
  },
  {
   "cell_type": "code",
   "execution_count": null,
   "metadata": {},
   "outputs": [],
   "source": []
  },
  {
   "cell_type": "code",
   "execution_count": 36,
   "metadata": {},
   "outputs": [
    {
     "data": {
      "text/plain": [
       "array([[4.328e-02, 2.456e-01, 5.247e-04, 4.322e-04, 1.871e-03, 1.970e-04,\n",
       "        3.760e-05, 9.373e-04, 6.267e-01, 8.043e-02]], dtype=float32)"
      ]
     },
     "execution_count": 36,
     "metadata": {},
     "output_type": "execute_result"
    }
   ],
   "source": [
    "np.set_printoptions(precision=3)\n",
    "pred=model_2.predict(test)\n",
    "pred_class=np.argmax(pred,axis=-1)\n",
    "pred"
   ]
  },
  {
   "cell_type": "code",
   "execution_count": 37,
   "metadata": {},
   "outputs": [
    {
     "data": {
      "text/plain": [
       "array([8], dtype=int64)"
      ]
     },
     "execution_count": 37,
     "metadata": {},
     "output_type": "execute_result"
    }
   ],
   "source": [
    "pred_class"
   ]
  },
  {
   "cell_type": "code",
   "execution_count": 38,
   "metadata": {},
   "outputs": [
    {
     "data": {
      "text/plain": [
       "array([6], dtype=uint8)"
      ]
     },
     "execution_count": 38,
     "metadata": {},
     "output_type": "execute_result"
    }
   ],
   "source": [
    "y_val[0]"
   ]
  },
  {
   "cell_type": "code",
   "execution_count": 39,
   "metadata": {},
   "outputs": [
    {
     "name": "stdout",
     "output_type": "stream",
     "text": [
      "Actual value is: 6 vs predicted value of: 6\n",
      "Actual value is: 9 vs predicted value of: 1\n",
      "Actual value is: 9 vs predicted value of: 9\n",
      "Actual value is: 4 vs predicted value of: 6\n",
      "Actual value is: 1 vs predicted value of: 8\n",
      "Actual value is: 1 vs predicted value of: 9\n",
      "Actual value is: 2 vs predicted value of: 2\n",
      "Actual value is: 7 vs predicted value of: 7\n",
      "Actual value is: 8 vs predicted value of: 8\n",
      "Actual value is: 3 vs predicted value of: 9\n"
     ]
    }
   ],
   "source": [
    "for i in range(10):\n",
    "    y_true=y_val[i][0]\n",
    "    img_test=np.expand_dims(x_val[i],axis=0)\n",
    "    \n",
    "    y_pred = np.argmax(model_2.predict(img_test)[0], axis=-1)\n",
    "    print(f'Actual value is: {y_true} vs predicted value of: {y_pred}')"
   ]
  },
  {
   "cell_type": "markdown",
   "metadata": {},
   "source": [
    "## Evaluation"
   ]
  },
  {
   "cell_type": "code",
   "execution_count": 40,
   "metadata": {},
   "outputs": [
    {
     "data": {
      "text/plain": [
       "((10000, 3072), (10000, 1))"
      ]
     },
     "execution_count": 40,
     "metadata": {},
     "output_type": "execute_result"
    }
   ],
   "source": [
    "model_2.metrics_names\n",
    "x_test.shape,y_test.shape\n"
   ]
  },
  {
   "cell_type": "code",
   "execution_count": 41,
   "metadata": {},
   "outputs": [
    {
     "name": "stdout",
     "output_type": "stream",
     "text": [
      "313/313 [==============================] - 1s 3ms/step - loss: 1.4502 - accuracy: 0.4879\n"
     ]
    }
   ],
   "source": [
    "test_loss,test_accuracy=model_2.evaluate(x_test,y_test)"
   ]
  },
  {
   "cell_type": "code",
   "execution_count": 42,
   "metadata": {},
   "outputs": [
    {
     "name": "stdout",
     "output_type": "stream",
     "text": [
      " Test loss is: 1.45 and test accuracy is: 48.8%\n"
     ]
    }
   ],
   "source": [
    "print(f' Test loss is: {test_loss:0.3} and test accuracy is: {test_accuracy:0.1%}')"
   ]
  },
  {
   "cell_type": "code",
   "execution_count": 51,
   "metadata": {},
   "outputs": [
    {
     "data": {
      "text/plain": [
       "((10000, 3072), (10000, 1))"
      ]
     },
     "execution_count": 51,
     "metadata": {},
     "output_type": "execute_result"
    }
   ],
   "source": [
    "x_test.shape,y_test.shape"
   ]
  },
  {
   "cell_type": "code",
   "execution_count": 56,
   "metadata": {},
   "outputs": [
    {
     "data": {
      "text/plain": [
       "array([3, 8, 8, ..., 5, 6, 7], dtype=int64)"
      ]
     },
     "execution_count": 56,
     "metadata": {},
     "output_type": "execute_result"
    }
   ],
   "source": [
    "pr=model_2.predict(x_test)\n",
    "p=np.argmax(pr,axis=-1)\n",
    "p"
   ]
  },
  {
   "cell_type": "code",
   "execution_count": 57,
   "metadata": {},
   "outputs": [],
   "source": [
    "\n",
    "pred_y=np.argmax(model_2.predict(x_test),axis=-1)\n",
    "conf_mat=confusion_matrix(y_test,pred_y)"
   ]
  },
  {
   "cell_type": "code",
   "execution_count": 61,
   "metadata": {},
   "outputs": [],
   "source": [
    "true_pos=np.diag(conf_mat)\n",
    "recall=true_pos/np.sum(conf_mat,axis=1)  #recall=true pos/(true pos + true neg)\n",
    "precision=true_pos/np.sum(conf_mat,axis=0)      #precision=true pos/(true pos+false neg)       "
   ]
  },
  {
   "cell_type": "code",
   "execution_count": 64,
   "metadata": {},
   "outputs": [
    {
     "data": {
      "text/plain": [
       "0.48790000000000006"
      ]
     },
     "execution_count": 64,
     "metadata": {},
     "output_type": "execute_result"
    }
   ],
   "source": [
    "avg_recall=recall.mean()\n",
    "avg_recall"
   ]
  },
  {
   "cell_type": "code",
   "execution_count": 63,
   "metadata": {},
   "outputs": [],
   "source": [
    "avg_prec=precision.mean()"
   ]
  },
  {
   "cell_type": "code",
   "execution_count": 65,
   "metadata": {},
   "outputs": [
    {
     "data": {
      "text/plain": [
       "0.4939487528655498"
      ]
     },
     "execution_count": 65,
     "metadata": {},
     "output_type": "execute_result"
    }
   ],
   "source": [
    "avg_prec"
   ]
  },
  {
   "cell_type": "code",
   "execution_count": 70,
   "metadata": {},
   "outputs": [],
   "source": [
    "f1_score=2 *avg_recall*avg_prec/(avg_recall+avg_prec)"
   ]
  },
  {
   "cell_type": "code",
   "execution_count": 71,
   "metadata": {},
   "outputs": [
    {
     "data": {
      "text/plain": [
       "0.4909057445349792"
      ]
     },
     "execution_count": 71,
     "metadata": {},
     "output_type": "execute_result"
    }
   ],
   "source": [
    "f1_score"
   ]
  },
  {
   "cell_type": "code",
   "execution_count": null,
   "metadata": {},
   "outputs": [],
   "source": []
  }
 ],
 "metadata": {
  "kernelspec": {
   "display_name": "Python 3",
   "language": "python",
   "name": "python3"
  },
  "language_info": {
   "codemirror_mode": {
    "name": "ipython",
    "version": 3
   },
   "file_extension": ".py",
   "mimetype": "text/x-python",
   "name": "python",
   "nbconvert_exporter": "python",
   "pygments_lexer": "ipython3",
   "version": "3.8.5"
  }
 },
 "nbformat": 4,
 "nbformat_minor": 4
}
